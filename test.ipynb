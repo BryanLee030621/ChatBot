pip install -r backend/requirements.txt

cd frontend
npm install

python backend/app.py

npm start
